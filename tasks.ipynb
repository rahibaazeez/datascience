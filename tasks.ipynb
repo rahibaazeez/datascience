{
 "cells": [
  {
   "cell_type": "markdown",
   "id": "0b8a4f1e",
   "metadata": {},
   "source": [
    "# CO1"
   ]
  },
  {
   "cell_type": "markdown",
   "id": "8204becb",
   "metadata": {},
   "source": [
    "## question 1 Multiply two array\n"
   ]
  },
  {
   "cell_type": "code",
   "execution_count": null,
   "id": "07da1837",
   "metadata": {},
   "outputs": [],
   "source": [
    "import numpy as np"
   ]
  },
  {
   "cell_type": "code",
   "execution_count": 10,
   "id": "6ee68a4e",
   "metadata": {},
   "outputs": [],
   "source": [
    "import numpy as np"
   ]
  },
  {
   "cell_type": "code",
   "execution_count": 7,
   "id": "2ab88d06",
   "metadata": {},
   "outputs": [],
   "source": [
    "a=np.array([1,2,4,5])"
   ]
  },
  {
   "cell_type": "code",
   "execution_count": 8,
   "id": "55eef091",
   "metadata": {},
   "outputs": [],
   "source": [
    "b=np.array([3,6,7,8])"
   ]
  },
  {
   "cell_type": "code",
   "execution_count": 9,
   "id": "6f0485eb",
   "metadata": {},
   "outputs": [
    {
     "name": "stdout",
     "output_type": "stream",
     "text": [
      "[ 3 12 28 40]\n"
     ]
    }
   ],
   "source": [
    "c=a*b\n",
    "print(c)"
   ]
  },
  {
   "cell_type": "markdown",
   "id": "cc677402",
   "metadata": {},
   "source": [
    "## question 2 calculator"
   ]
  },
  {
   "cell_type": "code",
   "execution_count": 12,
   "id": "80b6f240",
   "metadata": {},
   "outputs": [
    {
     "name": "stdout",
     "output_type": "stream",
     "text": [
      "Enter first number: 45\n",
      "Enter second number: 78\n",
      "Choose the operation: +, -, /, * +\n",
      "Sum = 123\n"
     ]
    }
   ],
   "source": [
    "a = int(input(\"Enter first number: \"))\n",
    "b = int(input(\"Enter second number: \"))\n",
    "c = input(\"Choose the operation: +, -, /, * \")\n",
    "\n",
    "if c == \"+\":\n",
    "    print(\"Sum =\", a + b)\n",
    "elif c == \"-\":\n",
    "    print(\"Difference =\", a - b)\n",
    "elif c == \"/\":\n",
    "    if b != 0:\n",
    "        print(\"Division =\", a / b)\n",
    "    else:\n",
    "        print(\"Cannot divide by zero.\")\n",
    "elif c == \"*\":\n",
    "    print(\"Multiplication =\", a * b)\n",
    "else:\n",
    "    print(\"Invalid operation.\")\n"
   ]
  },
  {
   "cell_type": "markdown",
   "id": "1b1c3368",
   "metadata": {},
   "source": [
    "## question 3 array eq or not\n"
   ]
  },
  {
   "cell_type": "code",
   "execution_count": 19,
   "id": "0437a5e7",
   "metadata": {},
   "outputs": [
    {
     "name": "stdout",
     "output_type": "stream",
     "text": [
      "two arrays are same\n"
     ]
    }
   ],
   "source": [
    "arr1=[1,2,3,4]\n",
    "arr2=[1,2,3,4]\n",
    "if arr1==arr2:\n",
    "    print(\"two arrays are same\")\n",
    "else:\n",
    "    print(\"two arrays are not same\")\n"
   ]
  },
  {
   "cell_type": "markdown",
   "id": "9b8bac33",
   "metadata": {},
   "source": [
    "## question 4 identity"
   ]
  },
  {
   "cell_type": "markdown",
   "id": "e544de7f",
   "metadata": {},
   "source": [
    "## using eye()\n"
   ]
  },
  {
   "cell_type": "code",
   "execution_count": 1,
   "id": "828a7378",
   "metadata": {},
   "outputs": [
    {
     "name": "stdout",
     "output_type": "stream",
     "text": [
      "[[1. 0. 0.]\n",
      " [0. 1. 0.]\n",
      " [0. 0. 1.]]\n"
     ]
    }
   ],
   "source": [
    "import numpy as np\n",
    "identity_matrix = np.eye(3)\n",
    "print(identity_matrix)\n"
   ]
  },
  {
   "cell_type": "markdown",
   "id": "45e91a46",
   "metadata": {},
   "source": [
    "## without using eye()"
   ]
  },
  {
   "cell_type": "code",
   "execution_count": 2,
   "id": "d1e6c46b",
   "metadata": {},
   "outputs": [
    {
     "name": "stdout",
     "output_type": "stream",
     "text": [
      "[[1. 0. 0.]\n",
      " [0. 1. 0.]\n",
      " [0. 0. 1.]]\n"
     ]
    }
   ],
   "source": [
    "import numpy as np\n",
    "identity_matrix = np.zeros((3, 3))\n",
    "for i in range(3):\n",
    "    identity_matrix[i][i] = 1\n",
    "print(identity_matrix)\n"
   ]
  },
  {
   "cell_type": "markdown",
   "id": "7d4991f2",
   "metadata": {},
   "source": [
    "## question 5 matrixoperation"
   ]
  },
  {
   "cell_type": "code",
   "execution_count": 23,
   "id": "ca181891",
   "metadata": {},
   "outputs": [
    {
     "name": "stdout",
     "output_type": "stream",
     "text": [
      "addition \n",
      " [[ 6  8]\n",
      " [10 12]]\n",
      "Element-wise multiplication \n",
      " [[ 5 12]\n",
      " [21 32]]\n",
      "SVD  [[-0.40455358 -0.9145143 ]\n",
      " [-0.9145143   0.40455358]] [5.4649857  0.36596619] [[-0.57604844 -0.81741556]\n",
      " [ 0.81741556 -0.57604844]]\n"
     ]
    }
   ],
   "source": [
    "import numpy as np\n",
    "a=np.array([[1,2],[3,4]])\n",
    "b=np.array([[5,6],[7,8]])\n",
    "add = a+b\n",
    "mul = a*b\n",
    "U,S,V = np.linalg.svd(a)\n",
    "print(\"addition \\n\",add)\n",
    "print(\"Element-wise multiplication \\n\",mul)\n",
    "print(\"SVD \",U,S,V)"
   ]
  },
  {
   "cell_type": "markdown",
   "id": "64f501ff",
   "metadata": {},
   "source": [
    "## question 6 drawline_red"
   ]
  },
  {
   "cell_type": "code",
   "execution_count": 24,
   "id": "84c72528",
   "metadata": {},
   "outputs": [
    {
     "data": {
      "image/png": "[encoded data removed]",
      "text/plain": [
       "<Figure size 432x288 with 1 Axes>"
      ]
     },
     "metadata": {
      "needs_background": "light"
     },
     "output_type": "display_data"
    }
   ],
   "source": [
    "import matplotlib.pyplot as plt\n",
    "x=[1,2,6,18]\n",
    "y=[3,10,12,20]\n",
    "plt.plot(x,y,marker='o',color=\"red\")\n",
    "plt.title(\"Dotted Line with Red Markers\")\n",
    "plt.grid(True)\n",
    "plt.show()"
   ]
  },
  {
   "cell_type": "markdown",
   "id": "0c1fa889",
   "metadata": {},
   "source": [
    "## question 7 draw_temperature\n"
   ]
  },
  {
   "cell_type": "code",
   "execution_count": 2,
   "id": "ecf27396",
   "metadata": {},
   "outputs": [
    {
     "data": {
      "image/png": "[encoded data removed]",
      "text/plain": [
       "<Figure size 432x288 with 1 Axes>"
      ]
     },
     "metadata": {
      "needs_background": "light"
     },
     "output_type": "display_data"
    }
   ],
   "source": [
    "import matplotlib.pyplot as plt\n",
    "temp = [12, 14, 16, 18, 20, 22, 24]\n",
    "celsius = [100, 200, 250, 400, 300, 450, 500]\n",
    "plt.plot(temp,celsius,marker=\"o\")\n",
    "plt.xlabel(\"Temperature\") \n",
    "plt.ylabel(\"Celsius\")              \n",
    "plt.title(\"Temperature vs Celsius\")\n",
    "plt.show()\n",
    "\n"
   ]
  },
  {
   "cell_type": "markdown",
   "id": "0206fe2e",
   "metadata": {},
   "source": [
    "## question 8 two or more same plot"
   ]
  },
  {
   "cell_type": "code",
   "execution_count": 6,
   "id": "a3726032",
   "metadata": {},
   "outputs": [
    {
     "data": {
      "image/png": "[encoded data removed]",
      "text/plain": [
       "<Figure size 432x288 with 1 Axes>"
      ]
     },
     "metadata": {
      "needs_background": "light"
     },
     "output_type": "display_data"
    }
   ],
   "source": [
    "import matplotlib.pyplot as plt\n",
    "arr1=[27,21,19,22]\n",
    "arr2=[30,29,28,25]\n",
    "arr3=[11,9,15,20]\n",
    "plt.plot(arr1,arr2,marker=\"o\",color=\"blue\",label=\"rahiba\")\n",
    "plt.plot(arr3,arr2,marker=\"o\",color=\"red\",label=\"rinsiya\")\n",
    "plt.legend()\n",
    "plt.show()"
   ]
  },
  {
   "cell_type": "markdown",
   "id": "c5430166",
   "metadata": {},
   "source": [
    "## question 9 multipleplot"
   ]
  },
  {
   "cell_type": "code",
   "execution_count": 12,
   "id": "adae4751",
   "metadata": {},
   "outputs": [
    {
     "data": {
      "image/png": "[encoded data removed]",
      "text/plain": [
       "<Figure size 432x288 with 2 Axes>"
      ]
     },
     "metadata": {
      "needs_background": "light"
     },
     "output_type": "display_data"
    }
   ],
   "source": [
    "import matplotlib.pyplot as plt\n",
    "arr1=[27,21,19,22]\n",
    "arr2=[30,29,28,25]\n",
    "arr3=[11,9,15,20]\n",
    "plt.subplot(1,2,1)\n",
    "plt.plot(arr1,arr2)\n",
    "plt.title(\"plot 1\")\n",
    "\n",
    "plt.subplot(1,2,2)\n",
    "plt.plot(arr1,arr3)\n",
    "plt.title(\"plot 2\")\n",
    "\n",
    "\n",
    "plt.tight_layout()\n",
    "plt.show()"
   ]
  },
  {
   "cell_type": "markdown",
   "id": "84306a33",
   "metadata": {},
   "source": [
    "## question 10 bar plot"
   ]
  },
  {
   "cell_type": "code",
   "execution_count": 20,
   "id": "1731d0dc",
   "metadata": {},
   "outputs": [
    {
     "data": {
      "image/png": "[encoded data removed]",
      "text/plain": [
       "<Figure size 432x288 with 1 Axes>"
      ]
     },
     "metadata": {
      "needs_background": "light"
     },
     "output_type": "display_data"
    }
   ],
   "source": [
    "import matplotlib.pyplot as plt\n",
    "import numpy as np\n",
    "labels=[\"A\",\"B\",\"C\",\"D\",\"E\"]\n",
    "\n",
    "x=np.arange(len(labels))\n",
    "\n",
    "width=0.35\n",
    "\n",
    "men=[22,30,35,35,26]\n",
    "women=[25,32,30,35,29]\n",
    "\n",
    "plt.bar(x-width/2,men,width,label=\"men\")\n",
    "y=[0.4,1.4,2.4,3.4,4.4]\n",
    "plt.bar(x+width/2,women,width,label=\"women\")\n",
    "plt.legend()\n",
    "plt.title(\"Scores by Groups\")\n",
    "plt.show()"
   ]
  },
  {
   "cell_type": "code",
   "execution_count": null,
   "id": "7dfc5ecd",
   "metadata": {},
   "outputs": [],
   "source": []
  }
 ],
 "metadata": {
  "kernelspec": {
   "display_name": "Python 3 (ipykernel)",
   "language": "python",
   "name": "python3"
  },
  "language_info": {
   "codemirror_mode": {
    "name": "ipython",
    "version": 3
   },
   "file_extension": ".py",
   "mimetype": "text/x-python",
   "name": "python",
   "nbconvert_exporter": "python",
   "pygments_lexer": "ipython3",
   "version": "3.9.7"
  }
 },
 "nbformat": 4,
 "nbformat_minor": 5
}
